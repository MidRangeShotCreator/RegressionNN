{
 "cells": [
  {
   "cell_type": "markdown",
   "id": "670f0f81",
   "metadata": {},
   "source": [
    "# Создание нейросети с несколькими входными и выходными значениями"
   ]
  },
  {
   "cell_type": "markdown",
   "id": "13e8ae07",
   "metadata": {},
   "source": [
    "## Данные"
   ]
  },
  {
   "cell_type": "markdown",
   "id": "a7856afb",
   "metadata": {},
   "source": [
    "Входные данные: кол-во игр проведенных игроками бейсбольной команды, процент победы, кол-во болельщиков"
   ]
  },
  {
   "cell_type": "markdown",
   "id": "7e88ec45",
   "metadata": {},
   "source": [
    "Выходные данные: вероятность победы, эмоциональное состояние игороков, процент травмированных игроков"
   ]
  },
  {
   "cell_type": "markdown",
   "id": "2668f44f",
   "metadata": {},
   "source": [
    "## Построение сети"
   ]
  },
  {
   "cell_type": "code",
   "execution_count": 21,
   "id": "1ea9cc56",
   "metadata": {},
   "outputs": [],
   "source": [
    "weights = [[0.1, 0.1, -0.3], [0.1, 0.2, 0.0], [0.0, 1.3, 0.1]]\n",
    "def neural_network(input, weights):\n",
    "    prediction = vect_mat_mul(input, weights)\n",
    "    return prediction"
   ]
  },
  {
   "cell_type": "markdown",
   "id": "d62737ff",
   "metadata": {},
   "source": [
    "## Передача данных в нейросеть"
   ]
  },
  {
   "cell_type": "code",
   "execution_count": 22,
   "id": "3f31d39b",
   "metadata": {},
   "outputs": [],
   "source": [
    "toes = [8.5, 9.5, 9.9, 9.0] \n",
    "wlrec = [0.65,0.8, 0.8, 0.9] \n",
    "nfans = [1.2, 1.3, 0.5, 1.0]\n",
    "\n",
    "input = [toes[0],wlrec[0],nfans[0]] \n",
    "pred = neural_network(input,weights)"
   ]
  },
  {
   "cell_type": "markdown",
   "id": "e2ca5b7f",
   "metadata": {},
   "source": [
    "## Написание функций для вычислений значений"
   ]
  },
  {
   "cell_type": "code",
   "execution_count": 20,
   "id": "7f243c77",
   "metadata": {},
   "outputs": [],
   "source": [
    "def w_sum(a, b):\n",
    "    assert(len(a) == len(b))\n",
    "    output = 0\n",
    "    for i in range(len(a)):\n",
    "        output += a[i] * b[i]\n",
    "    return output\n",
    "\n",
    "def vect_mat_mul(vect,matrix):\n",
    "    assert(len(vect) == len(matrix)) \n",
    "    output = [0,0,0]\n",
    "    for i in range(len(vect)): \n",
    "        output[i]= w_sum(vect,matrix[i])\n",
    "    return output"
   ]
  },
  {
   "cell_type": "markdown",
   "id": "0ef920c8",
   "metadata": {},
   "source": [
    "## Получение прогноза"
   ]
  },
  {
   "cell_type": "code",
   "execution_count": 23,
   "id": "0125a718",
   "metadata": {},
   "outputs": [
    {
     "name": "stdout",
     "output_type": "stream",
     "text": [
      "[0.555, 0.9800000000000001, 0.9650000000000001]\n"
     ]
    }
   ],
   "source": [
    "print(pred)"
   ]
  }
 ],
 "metadata": {
  "kernelspec": {
   "display_name": "Python 3 (ipykernel)",
   "language": "python",
   "name": "python3"
  },
  "language_info": {
   "codemirror_mode": {
    "name": "ipython",
    "version": 3
   },
   "file_extension": ".py",
   "mimetype": "text/x-python",
   "name": "python",
   "nbconvert_exporter": "python",
   "pygments_lexer": "ipython3",
   "version": "3.11.4"
  }
 },
 "nbformat": 4,
 "nbformat_minor": 5
}
