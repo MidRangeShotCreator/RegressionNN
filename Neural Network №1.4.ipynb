{
 "cells": [
  {
   "cell_type": "markdown",
   "id": "ec2c5b6a",
   "metadata": {},
   "source": [
    "# Создание нейросети с несколькими выходными значениями"
   ]
  },
  {
   "cell_type": "markdown",
   "id": "c87412aa",
   "metadata": {},
   "source": [
    "## Данные "
   ]
  },
  {
   "cell_type": "markdown",
   "id": "bf1c661d",
   "metadata": {},
   "source": [
    "Входные данные: кол-во игр проведенных игроками бейсбольной команды"
   ]
  },
  {
   "cell_type": "markdown",
   "id": "5faa5976",
   "metadata": {},
   "source": [
    "Выходные данные: вероятность победы, эмоциональное состояние игороков, процент травмированных игроков"
   ]
  },
  {
   "cell_type": "markdown",
   "id": "e935a2c4",
   "metadata": {},
   "source": [
    "## Построение сети с несколькими выходами"
   ]
  },
  {
   "cell_type": "code",
   "execution_count": 2,
   "id": "6014de0d",
   "metadata": {},
   "outputs": [],
   "source": [
    "weights = [0.3, 0.2, 0.9]\n",
    "def neural_network(input, weights):\n",
    "    prediction = elements_multiplication(input, weights)\n",
    "    return prediction"
   ]
  },
  {
   "cell_type": "markdown",
   "id": "65d392ae",
   "metadata": {},
   "source": [
    "## Передача данных в нейросеть"
   ]
  },
  {
   "cell_type": "code",
   "execution_count": 3,
   "id": "c75d1217",
   "metadata": {},
   "outputs": [],
   "source": [
    "wlrec = [0.65, 0.8, 0.8, 0.9]\n",
    "input = wlrec[0]\n",
    "pred = neural_network(input, weights)"
   ]
  },
  {
   "cell_type": "markdown",
   "id": "1526df98",
   "metadata": {},
   "source": [
    "## Написание функции для вычисления значений"
   ]
  },
  {
   "cell_type": "code",
   "execution_count": 1,
   "id": "415a775a",
   "metadata": {},
   "outputs": [],
   "source": [
    "def elements_multiplication(number, vector):\n",
    "    output = [0, 0, 0]\n",
    "    assert(len(output) == len(vector))\n",
    "    for i in range(len(vector)):\n",
    "        output[i] = number * vector[i]\n",
    "    return output"
   ]
  },
  {
   "cell_type": "markdown",
   "id": "27fef7fb",
   "metadata": {},
   "source": [
    "## Получение прогноза"
   ]
  },
  {
   "cell_type": "code",
   "execution_count": 4,
   "id": "b91dc535",
   "metadata": {},
   "outputs": [
    {
     "name": "stdout",
     "output_type": "stream",
     "text": [
      "[0.195, 0.13, 0.5850000000000001]\n"
     ]
    }
   ],
   "source": [
    "print(pred)"
   ]
  }
 ],
 "metadata": {
  "kernelspec": {
   "display_name": "Python 3 (ipykernel)",
   "language": "python",
   "name": "python3"
  },
  "language_info": {
   "codemirror_mode": {
    "name": "ipython",
    "version": 3
   },
   "file_extension": ".py",
   "mimetype": "text/x-python",
   "name": "python",
   "nbconvert_exporter": "python",
   "pygments_lexer": "ipython3",
   "version": "3.11.4"
  }
 },
 "nbformat": 4,
 "nbformat_minor": 5
}
