{
 "cells": [
  {
   "cell_type": "markdown",
   "id": "ee09b94d",
   "metadata": {},
   "source": [
    "# Создание нейросети с несколькими входными значениями"
   ]
  },
  {
   "cell_type": "code",
   "execution_count": null,
   "id": "5f7eb704",
   "metadata": {},
   "outputs": [],
   "source": []
  },
  {
   "cell_type": "markdown",
   "id": "864ebdf7",
   "metadata": {},
   "source": [
    "## Данные"
   ]
  },
  {
   "cell_type": "markdown",
   "id": "2ca81e10",
   "metadata": {},
   "source": [
    "Входные данные: кол-во игр проведенных игроками бейсбольной команды, процент победы, кол-во болельщиков"
   ]
  },
  {
   "cell_type": "markdown",
   "id": "f8f1c173",
   "metadata": {},
   "source": [
    "Выходные данные: число, показывающее вероятность победы"
   ]
  },
  {
   "cell_type": "markdown",
   "id": "90af9d13",
   "metadata": {},
   "source": [
    "## Построение сети с несколькими входами"
   ]
  },
  {
   "cell_type": "code",
   "execution_count": 5,
   "id": "7e35fcd4",
   "metadata": {},
   "outputs": [],
   "source": [
    "weights = [0.1, 0.2, 0]\n",
    "def neural_network(input, weights):\n",
    "    prediction = w_sum(input, weights)\n",
    "    return prediction"
   ]
  },
  {
   "cell_type": "markdown",
   "id": "88130ce3",
   "metadata": {},
   "source": [
    "## Передача данных в нейросеть"
   ]
  },
  {
   "cell_type": "code",
   "execution_count": 6,
   "id": "d1684522",
   "metadata": {},
   "outputs": [],
   "source": [
    "toes = [8.5, 9.5, 9.9, 9.0] \n",
    "wlrec = [0.65, 0.8, 0.8, 0.9] \n",
    "nfans = [1.2, 1.3, 0.5, 1.0]\n",
    "\n",
    "input = [toes[0], wlrec[0], nfans[0]]\n",
    "pred = neural_network(input, weights)"
   ]
  },
  {
   "cell_type": "markdown",
   "id": "9697ed7b",
   "metadata": {},
   "source": [
    "## Сумматор весовых значений"
   ]
  },
  {
   "cell_type": "code",
   "execution_count": 4,
   "id": "bf855fc6",
   "metadata": {},
   "outputs": [],
   "source": [
    "def w_sum(a,b):\n",
    "    assert(len(a) == len(b))\n",
    "    output = 0\n",
    "    for i in range(len(a)): output += (a[i] * b[i])\n",
    "    return output"
   ]
  },
  {
   "cell_type": "markdown",
   "id": "d5008953",
   "metadata": {},
   "source": [
    "## Получение прогноза"
   ]
  },
  {
   "cell_type": "code",
   "execution_count": 7,
   "id": "9739b6cb",
   "metadata": {},
   "outputs": [
    {
     "name": "stdout",
     "output_type": "stream",
     "text": [
      "0.9800000000000001\n"
     ]
    }
   ],
   "source": [
    "print(pred)"
   ]
  }
 ],
 "metadata": {
  "kernelspec": {
   "display_name": "Python 3 (ipykernel)",
   "language": "python",
   "name": "python3"
  },
  "language_info": {
   "codemirror_mode": {
    "name": "ipython",
    "version": 3
   },
   "file_extension": ".py",
   "mimetype": "text/x-python",
   "name": "python",
   "nbconvert_exporter": "python",
   "pygments_lexer": "ipython3",
   "version": "3.11.4"
  }
 },
 "nbformat": 4,
 "nbformat_minor": 5
}
