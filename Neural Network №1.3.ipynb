{
 "cells": [
  {
   "cell_type": "markdown",
   "id": "85915036",
   "metadata": {},
   "source": [
    "# Создание нейросети с несколькими входными значениями (реализация с помощью NumPy)"
   ]
  },
  {
   "cell_type": "markdown",
   "id": "1158040c",
   "metadata": {},
   "source": [
    "## Данные"
   ]
  },
  {
   "cell_type": "markdown",
   "id": "04e06650",
   "metadata": {},
   "source": [
    "Входные данные: кол-во игр проведенных игроками бейсбольной команды, процент победы, кол-во болельщиков"
   ]
  },
  {
   "cell_type": "markdown",
   "id": "d9a117f5",
   "metadata": {},
   "source": [
    "Выходные данные: число, показывающее вероятность победы"
   ]
  },
  {
   "cell_type": "markdown",
   "id": "d9defa9c",
   "metadata": {},
   "source": [
    "## Построение сети с несколькими входами"
   ]
  },
  {
   "cell_type": "code",
   "execution_count": 7,
   "id": "1273f388",
   "metadata": {},
   "outputs": [],
   "source": [
    "import numpy as np\n",
    "\n",
    "weights = np.array([0.1, 0.2, 0])\n",
    "def neural_network(input, weights):\n",
    "    prediction = np.dot(input, weights)\n",
    "    return prediction"
   ]
  },
  {
   "cell_type": "markdown",
   "id": "d7cac7c4",
   "metadata": {},
   "source": [
    "## Передача данных в нейросеть"
   ]
  },
  {
   "cell_type": "code",
   "execution_count": 8,
   "id": "3dbf63ff",
   "metadata": {},
   "outputs": [],
   "source": [
    "toes = np.array([8.5, 9.5, 9.9, 9.0]) \n",
    "wlrec = np.array([0.65, 0.8, 0.8, 0.9]) \n",
    "nfans = np.array([1.2, 1.3, 0.5, 1.0])\n",
    "\n",
    "input = np.array([toes[0], wlrec[0], nfans[0]]) \n",
    "pred = neural_network(input, weights)"
   ]
  },
  {
   "cell_type": "markdown",
   "id": "7b8e148d",
   "metadata": {},
   "source": [
    "## Получение прогноза"
   ]
  },
  {
   "cell_type": "code",
   "execution_count": 9,
   "id": "a277b596",
   "metadata": {},
   "outputs": [
    {
     "name": "stdout",
     "output_type": "stream",
     "text": [
      "0.9800000000000001\n"
     ]
    }
   ],
   "source": [
    "print(pred)"
   ]
  }
 ],
 "metadata": {
  "kernelspec": {
   "display_name": "Python 3 (ipykernel)",
   "language": "python",
   "name": "python3"
  },
  "language_info": {
   "codemirror_mode": {
    "name": "ipython",
    "version": 3
   },
   "file_extension": ".py",
   "mimetype": "text/x-python",
   "name": "python",
   "nbconvert_exporter": "python",
   "pygments_lexer": "ipython3",
   "version": "3.11.4"
  }
 },
 "nbformat": 4,
 "nbformat_minor": 5
}
