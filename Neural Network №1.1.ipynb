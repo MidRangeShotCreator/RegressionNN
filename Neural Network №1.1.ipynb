{
 "cells": [
  {
   "cell_type": "markdown",
   "id": "6066880a",
   "metadata": {},
   "source": [
    "# Создание регрессионной нейросети, предсказывающей победу бейсбольной команды"
   ]
  },
  {
   "cell_type": "markdown",
   "id": "e45e1862",
   "metadata": {},
   "source": [
    "## Данные:"
   ]
  },
  {
   "cell_type": "code",
   "execution_count": null,
   "id": "7e00669b",
   "metadata": {},
   "outputs": [],
   "source": [
    "Входные данные: среднее кол-во игр, проведенных игроками бейсбольной команды"
   ]
  },
  {
   "cell_type": "code",
   "execution_count": null,
   "id": "ae9e9f5f",
   "metadata": {},
   "outputs": [],
   "source": [
    "Выходные данные: число, показывающее вероятность победы"
   ]
  },
  {
   "cell_type": "markdown",
   "id": "d07eaaec",
   "metadata": {},
   "source": [
    "## Построение сети"
   ]
  },
  {
   "cell_type": "code",
   "execution_count": 2,
   "id": "979dc25b",
   "metadata": {},
   "outputs": [],
   "source": [
    "weight = 0.1\n",
    "def neural_network(input, weight):\n",
    "    prediction = input * weight\n",
    "    return prediction"
   ]
  },
  {
   "cell_type": "markdown",
   "id": "aeba4dfc",
   "metadata": {},
   "source": [
    "## Использование сети для получения прогноза"
   ]
  },
  {
   "cell_type": "code",
   "execution_count": null,
   "id": "f3a5ec53",
   "metadata": {},
   "outputs": [],
   "source": [
    "number_of_toes = [8.5, 9.5, 10, 9] \n",
    "input = number_of_toes[0]\n",
    "pred = neural_network(input,weight)"
   ]
  },
  {
   "cell_type": "markdown",
   "id": "985572e7",
   "metadata": {},
   "source": [
    "## Вывод резуьтата"
   ]
  },
  {
   "cell_type": "code",
   "execution_count": 3,
   "id": "e0486fd2",
   "metadata": {},
   "outputs": [
    {
     "name": "stdout",
     "output_type": "stream",
     "text": [
      "0.8500000000000001\n"
     ]
    }
   ],
   "source": [
    "print(pred)"
   ]
  }
 ],
 "metadata": {
  "kernelspec": {
   "display_name": "Python 3 (ipykernel)",
   "language": "python",
   "name": "python3"
  },
  "language_info": {
   "codemirror_mode": {
    "name": "ipython",
    "version": 3
   },
   "file_extension": ".py",
   "mimetype": "text/x-python",
   "name": "python",
   "nbconvert_exporter": "python",
   "pygments_lexer": "ipython3",
   "version": "3.11.4"
  }
 },
 "nbformat": 4,
 "nbformat_minor": 5
}
